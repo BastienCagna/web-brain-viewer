{
 "cells": [
  {
   "cell_type": "code",
   "execution_count": 2,
   "metadata": {},
   "outputs": [
    {
     "ename": "SyntaxError",
     "evalue": "Unexpected token *",
     "output_type": "error",
     "traceback": [
      "evalmachine.<anonymous>:1",
      "import * as WBV from '../dist/wbv.js';",
      "       ^",
      "",
      "SyntaxError: Unexpected token *",
      "    at new Script (vm.js:83:7)",
      "    at createScript (vm.js:277:10)",
      "    at Object.runInThisContext (vm.js:329:10)",
      "    at run ([eval]:1054:15)",
      "    at onRunRequest ([eval]:888:18)",
      "    at onMessage ([eval]:848:13)",
      "    at process.emit (events.js:198:13)",
      "    at emit (internal/child_process.js:832:12)",
      "    at process._tickCallback (internal/process/next_tick.js:63:19)"
     ]
    }
   ],
   "source": [
    "import * as WBV from '../dist/wbv.js';"
   ]
  }
 ],
 "metadata": {
  "kernelspec": {
   "display_name": "Javascript (Node.js)",
   "language": "javascript",
   "name": "javascript"
  },
  "language_info": {
   "file_extension": ".js",
   "mimetype": "application/javascript",
   "name": "javascript",
   "version": "10.24.1"
  }
 },
 "nbformat": 4,
 "nbformat_minor": 4
}
